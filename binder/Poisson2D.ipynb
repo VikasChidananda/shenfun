{
 "cells": [
  {
   "attachments": {},
   "cell_type": "markdown",
   "metadata": {},
   "source": [
    "Demo - Poisson equation 2D\n",
    "=======================\n",
    "\n",
    "Solve Poisson's equation in 2D with homogeneous Dirichlet bcs in one direction and periodicity in the other.\n",
    "\n",
    "$$    \n",
    "\\begin{align}\n",
    "\\nabla^2 u(x, y) &= f(x, y), \\quad \\forall \\, (x, y) \\in [-1, 1] \\times [0, 2\\pi]\\\\\n",
    "u(\\pm 1, y) &= 0 \\\\\n",
    "u(x, 2\\pi) &= u(x, 0)\n",
    "\\end{align}\n",
    "$$\n",
    "\n",
    "where $u(x, y)$ is the solution and $f(x, y)$ is some right hand side function.\n",
    "\n",
    "Use either Chebyshev basis $P=\\{T_k(x)\\}_{k=0}^{N_0-1}$ or Legendre $P=\\{L_k(x)\\}_{k=0}^{N_0-1}$ and define Shen's composite Dirichlet basis as\n",
    "\n",
    "$$\n",
    "V^{N_0}(x) = \\{P_k(x) - P_{k+2}(x)\\, | \\, k=0, 1, \\ldots, N_0-3\\}.\n",
    "$$\n",
    "\n",
    "For the periodic direction use Fourier exponentials\n",
    "\n",
    "$$\n",
    "V^{N_1}(y) = \\{\\exp(i l y)\\, | \\, l=-N_1/2, -N_1/2+1, \\ldots, N_1/2-1\\}.\n",
    "$$\n",
    "\n",
    "And then define tensor product space as an outer product of these spaces\n",
    "\n",
    "$$\n",
    "V^N(x, y) = V^{N_0}(x) \\times V^{N_1}(y).\n",
    "$$\n",
    "\n",
    "We get the test function\n",
    "\n",
    "$$\n",
    "\\phi_{kl}(x, y) = (P_k(x) - P_{k+2}(x))\\exp(i l y),\n",
    "$$\n",
    "\n",
    "and define for simplicity\n",
    "\n",
    "$$\n",
    "\\begin{align}\n",
    "v(x, y) &= \\phi_{kl}(x, y), \\\\\n",
    "u(x, y) &= \\sum_{k=0}^{N_0-3}\\sum_{l=-N_1/2}^{N_1/2-1} \\hat{u}_{kl} \\phi_{kl}(x, y),\n",
    "\\end{align}\n",
    "$$\n",
    "\n",
    "where $u(x, y)$ is the trial function.\n",
    "\n",
    "The weighted inner product is defined almost exactly like in 1D, however, we now have to take into account that the solution is complex valued. The inner product is now \n",
    "\n",
    "$$\n",
    "(u, v)_w = \\int_{-1}^{1}\\int_{0}^{2\\pi} u v^* w dxdy,\n",
    "$$\n",
    "\n",
    "where $v^*$ is the complex conjugate of $v$. Furthermore, we use the constant weight $w(x, y)=1/(2\\pi)$ for Legendre/Fourier and get\n",
    "\n",
    "Find $u \\in V^N$ such that\n",
    "\n",
    "$$     (\\nabla u, \\nabla v)_w = -(f, v)_w, \\quad \\forall \\, v \\in V^N.$$\n",
    "\n",
    "For Chebyshev the weight is $1/\\sqrt{1-x^2}/(2\\pi)$ and we do not perform integration by parts: \n",
    "\n",
    "Find $u \\in V^N$ such that\n",
    "\n",
    "$$     (\\nabla^2 u, v)_w = (f, v)_w, \\quad \\forall \\, v \\in V^N.$$"
   ]
  },
  {
   "attachments": {},
   "cell_type": "markdown",
   "metadata": {},
   "source": [
    "## Implementation using shenfun"
   ]
  },
  {
   "cell_type": "code",
   "execution_count": 24,
   "metadata": {},
   "outputs": [],
   "source": [
    "from shenfun import *\n",
    "import matplotlib.pyplot as plt\n",
    "\n",
    "N = (16, 12)\n",
    "BX = FunctionSpace(N[0], 'L', bc=(0, 0))\n",
    "BY = FunctionSpace(N[1], 'F')\n",
    "V = TensorProductSpace(comm, (BX, BY))"
   ]
  },
  {
   "cell_type": "code",
   "execution_count": 25,
   "metadata": {},
   "outputs": [],
   "source": [
    "v = TestFunction(V)\n",
    "u = TrialFunction(V)\n",
    "A = inner(grad(u), grad(v))"
   ]
  },
  {
   "cell_type": "code",
   "execution_count": 26,
   "metadata": {},
   "outputs": [
    {
     "name": "stdout",
     "output_type": "stream",
     "text": [
      "[<shenfun.matrixbase.TPMatrix object at 0x1a9792ef0>, <shenfun.matrixbase.TPMatrix object at 0x1a9792e30>]\n"
     ]
    }
   ],
   "source": [
    "print(A)"
   ]
  },
  {
   "attachments": {},
   "cell_type": "markdown",
   "metadata": {},
   "source": [
    "`TPMatrix` is a tensor product matrix. It is the outer product of two smaller matrices. Consider the inner product:\n",
    "\n",
    "$$\n",
    "\\begin{align}\n",
    "(\\nabla u, \\nabla v) &= \\frac{1}{2\\pi}\\int_{-1}^{1}\\int_{0}^{2\\pi} \\left(\\frac{\\partial u}{\\partial x}, \\frac{\\partial u}{\\partial y}\\right) \\cdot \\left(\\frac{\\partial v^*}{\\partial x}, \\frac{\\partial v^*}{\\partial y}\\right) {dxdy} \\\\\n",
    "(\\nabla u, \\nabla v) &= \\frac{1}{2\\pi} \\int_{-1}^1 \\int_{0}^{2\\pi} \\left( \\frac{\\partial u}{\\partial x}\\frac{\\partial v^*}{\\partial x} + \\frac{\\partial u}{\\partial y}\\frac{\\partial v^*}{\\partial y} \\right) {dxdy} \\\\\n",
    "(\\nabla u, \\nabla v) &= \\frac{1}{2\\pi}\\int_{-1}^1 \\int_{0}^{2\\pi} \\frac{\\partial u}{\\partial x}\\frac{\\partial v^*}{\\partial x} {dxdy} + \\int_{-1}^1 \\int_{0}^{2\\pi} \\frac{\\partial u}{\\partial y}\\frac{\\partial v^*}{\\partial y} {dxdy}\n",
    "\\end{align}\n",
    "$$\n",
    "\n",
    "which is also a sum of two terms. These two terms are the two `TPMatrix`es returned by `inner` above.\n",
    "\n",
    "Now each one of these two terms can be written as the outer product of two smaller matrices. Consider the first:\n",
    "\n",
    "$$\n",
    "\\begin{align}\n",
    "\\frac{1}{2\\pi}\\int_{-1}^1 \\int_{0}^{2\\pi} \\frac{\\partial u}{\\partial x}\\frac{\\partial v^*}{\\partial x} {dxdy} &= \\frac{1}{2\\pi}\\int_{-1}^1 \\int_{0}^{2\\pi} \\frac{\\partial \\sum_{m}\\sum_{n} \\hat{u}_{mn} \\phi_{mn}}{\\partial x}\\frac{\\partial \\phi_{kl}^*}{\\partial x }{dxdy} \\\\\n",
    "   &= \\sum_{m}\\sum_{n} \\hat{u}_{mn} \\frac{1}{2\\pi} \\int_{-1}^1 \\int_{0}^{2\\pi} \\frac{\\partial (P_m(x)-P_{m+2}(x))\\exp(iny)}{\\partial x}\\frac{\\partial (P_k(x)-P_{k+2}(x))\\exp(-ily)}{\\partial x} {dxdy} \\\\\n",
    "   &= \\sum_{m}\\sum_{n} \\hat{u}_{mn} \\frac{1}{2\\pi} \\int_{-1}^1 \\int_{0}^{2\\pi} \\frac{\\partial (P_m(x)-P_{m+2}(x))}{\\partial x}\\frac{\\partial (P_k(x)-P_{k+2}(x))}{\\partial x} \\exp(iny) \\exp(-ily) {dxdy} \\\\\n",
    "   &= \\sum_{m}\\sum_{n} \\hat{u}_{mn} \\underbrace{\\int_{-1}^1 \\frac{\\partial (P_m(x)-P_{m+2}(x))}{\\partial x}\\frac{\\partial (P_k(x)-P_{k+2}(x))}{\\partial x} {dx}}_{a_{km}} \\underbrace{\\frac{1}{2\\pi}\\int_{0}^{2\\pi}  \\exp(iny) \\exp(-ily) {dy}}_{\\delta_{ln}} \\\\\n",
    "   &= a_{km} \\delta_{ln} \\hat{u}_{mn} \\\\\n",
    "   &= a_{km} \\hat{u}_{ml}\n",
    "\\end{align}\n",
    "$$"
   ]
  },
  {
   "cell_type": "code",
   "execution_count": 27,
   "metadata": {},
   "outputs": [
    {
     "name": "stdout",
     "output_type": "stream",
     "text": [
      "[<shenfun.legendre.matrices.ASDSDmat object at 0x1a9792f20>, <shenfun.fourier.matrices.FourierMatrix object at 0x1a97929b0>]\n"
     ]
    }
   ],
   "source": [
    "print(A[0].mats)"
   ]
  },
  {
   "attachments": {},
   "cell_type": "markdown",
   "metadata": {},
   "source": [
    "The first item of the `A[0].mats` list is the $a_{km}$ matrix and the second is the identity matrix.\n",
    "\n",
    "Now create a manufactured solution to test the implementation."
   ]
  },
  {
   "cell_type": "code",
   "execution_count": 28,
   "metadata": {},
   "outputs": [],
   "source": [
    "import sympy as sp\n",
    "x, y = sp.symbols('x,y')\n",
    "ue = (sp.cos(4*x) + sp.sin(2*y))*(1 - x**2)\n",
    "fe = ue.diff(x, 2) + ue.diff(y, 2)\n",
    "fl = sp.lambdify((x, y), fe, 'numpy')\n",
    "fj = Array(V, buffer=fl(*V.mesh()))"
   ]
  },
  {
   "attachments": {},
   "cell_type": "markdown",
   "metadata": {},
   "source": [
    "Assemble right hand side"
   ]
  },
  {
   "cell_type": "code",
   "execution_count": 29,
   "metadata": {},
   "outputs": [],
   "source": [
    "f_tilde = Function(V)\n",
    "f_tilde = inner(v, -fj, output_array=f_tilde)"
   ]
  },
  {
   "attachments": {},
   "cell_type": "markdown",
   "metadata": {},
   "source": [
    "Solve system of equations by fetching an efficient Helmholtz solver"
   ]
  },
  {
   "cell_type": "code",
   "execution_count": 30,
   "metadata": {},
   "outputs": [],
   "source": [
    "u_hat = Function(V)\n",
    "solver = la.SolverGeneric1ND(A)\n",
    "u_hat = solver(f_tilde, u_hat)"
   ]
  },
  {
   "cell_type": "code",
   "execution_count": 31,
   "metadata": {},
   "outputs": [
    {
     "data": {
      "text/plain": [
       "<matplotlib.colorbar.Colorbar at 0x1a98ff100>"
      ]
     },
     "execution_count": 31,
     "metadata": {},
     "output_type": "execute_result"
    },
    {
     "data": {
      "image/png": "[encoded data removed]",
      "text/plain": [
       "<Figure size 432x288 with 2 Axes>"
      ]
     },
     "metadata": {
      "needs_background": "light"
     },
     "output_type": "display_data"
    }
   ],
   "source": [
    "X = V.local_mesh(True)\n",
    "plt.contourf(X[0], X[1], u_hat.backward(), 100)\n",
    "plt.colorbar()"
   ]
  }
 ],
 "metadata": {
  "kernelspec": {
   "display_name": "shenfun",
   "language": "python",
   "name": "shenfun"
  },
  "language_info": {
   "codemirror_mode": {
    "name": "ipython",
    "version": 3
   },
   "file_extension": ".py",
   "mimetype": "text/x-python",
   "name": "python",
   "nbconvert_exporter": "python",
   "pygments_lexer": "ipython3",
   "version": "3.10.2"
  },
  "toc": {
   "base_numbering": 1,
   "nav_menu": {},
   "number_sections": false,
   "sideBar": true,
   "skip_h1_title": false,
   "title_cell": "Table of Contents",
   "title_sidebar": "Contents",
   "toc_cell": false,
   "toc_position": {},
   "toc_section_display": true,
   "toc_window_display": false
  }
 },
 "nbformat": 4,
 "nbformat_minor": 2
}
